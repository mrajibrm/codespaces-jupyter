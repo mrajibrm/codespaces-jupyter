{
 "cells": [
  {
   "cell_type": "code",
   "execution_count": 3,
   "metadata": {},
   "outputs": [],
   "source": [
    "import pandas as pd\n",
    "from reportlab.lib.pagesizes import letter\n",
    "from reportlab.platypus import SimpleDocTemplate, Paragraph ,PageBreak\n",
    "from reportlab.lib.styles import getSampleStyleSheet"
   ]
  },
  {
   "cell_type": "code",
   "execution_count": 7,
   "metadata": {},
   "outputs": [],
   "source": [
    "def generate_pdf_from_csv(csv_file, output_pdf):\n",
    "    df = pd.read_csv(csv_file)\n",
    "    \n",
    "    doc = SimpleDocTemplate(output_pdf, pagesize=letter)\n",
    "    \n",
    "    story = []\n",
    "        \n",
    "    for i in range(0,df.shape[0]):\n",
    "        for j in range(0, len(df.columns)):\n",
    "            text = df[df.columns[j]][i]\n",
    "            if df.columns[j]=='Questions':\n",
    "                story.append(Paragraph(str(i+1)+\".) \"+text, getSampleStyleSheet()['Normal']))\n",
    "                story.append(Paragraph(\"<br/><br/>\", getSampleStyleSheet()['Normal']))\n",
    "            else:\n",
    "                story.append(Paragraph(df.columns[j]+\".) \"+text, getSampleStyleSheet()['Normal']))\n",
    "                \n",
    "        story.append(PageBreak())\n",
    "    \n",
    "    doc.build(story)\n",
    "    \n",
    "generate_pdf_from_csv(\"QUE.csv\", \"output.pdf\")"
   ]
  }
 ],
 "metadata": {
  "kernelspec": {
   "display_name": "Python 3",
   "language": "python",
   "name": "python3"
  },
  "language_info": {
   "codemirror_mode": {
    "name": "ipython",
    "version": 3
   },
   "file_extension": ".py",
   "mimetype": "text/x-python",
   "name": "python",
   "nbconvert_exporter": "python",
   "pygments_lexer": "ipython3",
   "version": "3.12.1"
  }
 },
 "nbformat": 4,
 "nbformat_minor": 2
}
